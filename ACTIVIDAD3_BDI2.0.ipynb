{
 "cells": [
  {
   "cell_type": "code",
   "execution_count": 1,
   "id": "7ce4a9b1",
   "metadata": {},
   "outputs": [],
   "source": [
    "import http.client"
   ]
  },
  {
   "cell_type": "code",
   "execution_count": 2,
   "id": "fa968eea",
   "metadata": {},
   "outputs": [],
   "source": [
    "conn = http.client.HTTPSConnection(\"movies-tvshows-data-imdb.p.rapidapi.com\")"
   ]
  },
  {
   "cell_type": "code",
   "execution_count": 3,
   "id": "d41cc676",
   "metadata": {},
   "outputs": [],
   "source": [
    "headers = {\n",
    "    'x-rapidapi-host': \"movies-tvshows-data-imdb.p.rapidapi.com\",\n",
    "    'x-rapidapi-key': \"ac8d756991msh11c0fdc625890e5p10767cjsnaac8d6f9e91c\"\n",
    "    }"
   ]
  },
  {
   "cell_type": "code",
   "execution_count": 4,
   "id": "5da20e8b",
   "metadata": {},
   "outputs": [],
   "source": [
    "conn.request(\"GET\", \"/?type=get-movie-details&imdb=tt2935510\", headers=headers)"
   ]
  },
  {
   "cell_type": "code",
   "execution_count": 5,
   "id": "046866d0",
   "metadata": {},
   "outputs": [],
   "source": [
    "res = conn.getresponse()\n",
    "data = res.read()"
   ]
  },
  {
   "cell_type": "code",
   "execution_count": 6,
   "id": "c4adcfba",
   "metadata": {},
   "outputs": [
    {
     "name": "stdout",
     "output_type": "stream",
     "text": [
      "{\"title\":\"Ad Astra\",\"description\":\"The near future, a time when both hope and hardships drive humanity to look to the stars and beyond. While a mysterious phenomenon menaces to destroy life on planet Earth, astronaut Roy McBride undertakes a mission across the immensity of space and its many perils to uncover the truth about a lost expedition that decades before boldly faced emptiness and silence in search of the unknown.\",\"tagline\":\"The answers we seek are just outside our reach\",\"year\":\"2019\",\"release_date\":\"2019-09-17\",\"imdb_id\":\"tt2935510\",\"imdb_rating\":\"6.1\",\"vote_count\":\"4394\",\"popularity\":\"44.602\",\"youtube_trailer_key\":\"BsCNKuB93BA\",\"rated\":\"PG-13\",\"runtime\":123,\"genres\":[\"Sci-Fi\",\"Drama\",\"Action\",\"Adventure\",\"Mystery\",\"Thriller\",\"Science Fiction\"],\"stars\":[\"Brad Pitt\",\"Tommy Lee Jones\",\"Ruth Negga\",\"John Ortiz\",\"Liv Tyler\",\"Donald Sutherland\",\"Greg Bryk\",\"Loren Dean\",\"Kimberly Elise\",\"John Finn\",\"LisaGay Hamilton\",\"Donnie Keshawarz\",\"Bobby Nish\",\"Sean Blakemore\",\"Freda Foh Shen\",\"Kayla Adams\",\"Ravi Kapoor\",\"Elisa Perry\",\"Daniel Sauli\",\"Kimmy Shields\",\"Kunal Dudheker\",\"Alyson Reed\",\"Sasha Comp\\u00e8re\",\"Justin Dray\",\"Alexandria Rousset\",\"Natasha Lyonne\",\"Zoro Saro Manuel Daghlian\",\"Jacob Sandler\",\"Elizabeth Willaman\",\"Robert J. Yowell\",\"Nicholas Walker\",\"Amanda Tudesco\",\"Lisa Shows\",\"Brynn Route\",\"Valeri Ross\",\"Rochelle Rose\",\"Eloy Perez\",\"Melvin Payne Jr.\",\"Jean-Pierre Mouzon\",\"Jen Morillo\",\"Noelle Messier\",\"Anne McDaniels\",\"Kento Matsunami\",\"Mallory Low\",\"Sheila M. Lockhart\",\"Donna Lee\",\"Halszka Kuza\",\"Matthew Jones\",\"Bayani Ison\",\"Danny Hamouie\",\"Georgia James Gray\",\"Eleanor Goodall\",\"Luis Richard Gomez\",\"Eliza Gerontakis\",\"Vivian Fleming-Alvarez\",\"Lorell Bird Dorfman\",\"Lawrence Dex\",\"Bayardo De Murguia\",\"Rodney Damon Collins\",\"Greg Byrk\",\"Jamie Kennedy\",\"Ran Wei\",\"Stephanie Kerbis\",\"Alex Luna\",\"Afsheen Olyaie\",\"Terence Rivera\",\"Adinett Nsabimana\",\"James Dunn\",\"Mark Casimir Dyniewicz Jr.\"],\"directors\":[\"Dan Bradley\",\"James Gray\",\"Sharron Reynolds-Enriquez\",\"Doug Torres\",\"Christina Fong\",\"Mark Valenzuela\"],\"countries\":[\"Brazil\",\"China\",\"United States of America\"],\"language\":[\"English\",\"Norsk\",\"en\"],\"status\":\"OK\",\"status_message\":\"Query was successful\"}\n"
     ]
    }
   ],
   "source": [
    "print(data.decode(\"utf-8\"))"
   ]
  },
  {
   "cell_type": "code",
   "execution_count": null,
   "id": "1fd7ec58",
   "metadata": {},
   "outputs": [],
   "source": []
  }
 ],
 "metadata": {
  "kernelspec": {
   "display_name": "Python 3",
   "language": "python",
   "name": "python3"
  },
  "language_info": {
   "codemirror_mode": {
    "name": "ipython",
    "version": 3
   },
   "file_extension": ".py",
   "mimetype": "text/x-python",
   "name": "python",
   "nbconvert_exporter": "python",
   "pygments_lexer": "ipython3",
   "version": "3.8.8"
  }
 },
 "nbformat": 4,
 "nbformat_minor": 5
}
